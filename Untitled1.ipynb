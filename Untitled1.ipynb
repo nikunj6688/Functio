{
  "nbformat": 4,
  "nbformat_minor": 0,
  "metadata": {
    "colab": {
      "provenance": []
    },
    "kernelspec": {
      "name": "python3",
      "display_name": "Python 3"
    },
    "language_info": {
      "name": "python"
    }
  },
  "cells": [
    {
      "cell_type": "code",
      "execution_count": 3,
      "metadata": {
        "colab": {
          "base_uri": "https://localhost:8080/"
        },
        "id": "1B89d8FaJB0e",
        "outputId": "5f0322c9-a77a-4c64-c601-367718720985"
      },
      "outputs": [
        {
          "output_type": "stream",
          "name": "stdout",
          "text": [
            "0\n"
          ]
        }
      ],
      "source": [
        "a=10;\n",
        "b=5;\n",
        "c=a%b;\n",
        "print (c);"
      ]
    }
  ]
}